{
  "nbformat": 4,
  "nbformat_minor": 0,
  "metadata": {
    "colab": {
      "name": "GWAS_maturity_group.ipynb",
      "provenance": [],
      "authorship_tag": "ABX9TyPZvbCwVPiLW88WIzpqroJy",
      "include_colab_link": true
    },
    "kernelspec": {
      "name": "python3",
      "display_name": "Python 3"
    }
  },
  "cells": [
    {
      "cell_type": "markdown",
      "metadata": {
        "id": "view-in-github",
        "colab_type": "text"
      },
      "source": [
        "<a href=\"https://colab.research.google.com/github/zhenbinHU/popgenomics_R/blob/master/GWAS_maturity_group_soybean.ipynb\" target=\"_parent\"><img src=\"https://colab.research.google.com/assets/colab-badge.svg\" alt=\"Open In Colab\"/></a>"
      ]
    },
    {
      "cell_type": "code",
      "metadata": {
        "id": "7ftvPeWcpGS4",
        "colab_type": "code",
        "colab": {}
      },
      "source": [
        "# genome-wide association study for maturity group\n",
        "# the data was downloaded from GRIN\n",
        "# the SNP data was downloaded from soybase\n",
        "# MLM from GAPIT was used\n",
        "\n",
        "setwd(\"/homes/zhenbin/ft\")\n",
        "library(multtest)\n",
        "library(gplots)\n",
        "library(LDheatmap)\n",
        "library(genetics)\n",
        "library(ape)\n",
        "library(EMMREML)\n",
        "library(compiler) #this lib            \n",
        "library(\"scatterplot3d\")\n",
        "source(\"/bulk/zhenbin/soybean_domestication/wj/G_E/gapit_functions_7.17.19.R\")\n",
        "source(\"http://zzlab.net/GAPIT/emma.txt\")\n",
        "\n",
        "hmp<-read.delim(\"/bulk/zhenbin/SOYBEAN/GWAS/soysnp50k_wm82.a2_41317.correct.hmp.txt\",header=F)\n",
        "id<-as.character(unlist(hmp[1,]))               \n",
        "\n",
        "phen<-read.csv(\"maturity_group.csv\",header=T,skip=2)\n",
        "phen$Taxa<-paste0(phen$accession_prefix,phen$accession_number, phen$accession_surfix)\n",
        "\n",
        "phen<-phen[,c(\"Taxa\",\"observation_value\")]\n",
        "names(phen)<-c(\"Taxa\",\"Maturity_Group\")\n",
        "phen$Maturity_Group<-as.character(phen$Maturity_Group)\n",
        "mg<-c(\"0\",\"00\",\"000\",\"I\",\"II\",\"III\",\"IV\",\"IX\",\"V\",\"VI\",\"VII\",\"VIII\",\"X\")\n",
        "\n",
        "n<-0\n",
        "for(i in mg){\n",
        "    phen$Maturity_Group[phen$Maturity_Group==i]<-as.character(n)\n",
        "    n<-n+1\n",
        "}\n",
        "\n",
        "phen$Maturity_Group<-as.numeric(phen$Maturity_Group)\n",
        "phen<-aggregate(phen,by=list(phen$Taxa),mean)\n",
        "\n",
        "phen<-phen[,c(\"Group.1\",\"Maturity_Group\")]\n",
        "names(phen)<-c(\"Taxa\",\"Maturity_Group\")\n",
        "\n",
        "pheno<-phen[which(phen$Taxa%in%id),]\n",
        "snp<-hmp[,c(1:11,which(id%in%pheno$Taxa))]\n",
        "snp$V3<-as.numeric(snp$V3)\n",
        "snp[1,3]<-\"chrom\"\n",
        "myGAPIT <- GAPIT(Y=pheno,G=snp,SNP.MAF=0.01,Model.selection=T)\n",
        "\n",
        "\n",
        "# submit the job\n",
        "\n",
        "#!/bin/bash\n",
        "#SBATCH --job-name=gwas\n",
        "#SBATCH --output=gwas.txt\n",
        "#SBATCH --time=13-00:00:00\n",
        "#SBATCH --mem-per-cpu=200GB\n",
        "#SBATCH --mail-user=zhenbin@ksu.edu\n",
        "\n",
        "cd /homes/zhenbin/ft\n",
        "module load R\n",
        "\n",
        "R CMD BATCH gwas\n"
      ],
      "execution_count": 0,
      "outputs": []
    }
  ]
}